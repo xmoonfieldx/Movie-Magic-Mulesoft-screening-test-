{
 "cells": [
  {
   "cell_type": "markdown",
   "id": "9f5c2b1b",
   "metadata": {},
   "source": [
    "# Create a database, store your interesting movie names with the names of lead actor, actress, year of release and the director name. Once you have stored the details, then use any programming language of your choice to retrieve the details"
   ]
  },
  {
   "cell_type": "markdown",
   "id": "c0a7cbc3",
   "metadata": {},
   "source": [
    "# It uses MySQL database that is stored on phpMyAdmin, choice of language is Python."
   ]
  },
  {
   "cell_type": "code",
   "execution_count": 31,
   "id": "8c2c2bad",
   "metadata": {},
   "outputs": [],
   "source": [
    "#Connect to database\n",
    "import mysql.connector\n",
    "mysql = mysql.connector.connect(\n",
    "    host=\"localhost\",\n",
    "    username=\"root\",\n",
    "    password=\"\",\n",
    "    )"
   ]
  },
  {
   "cell_type": "code",
   "execution_count": 14,
   "id": "d72fa1e8",
   "metadata": {},
   "outputs": [],
   "source": [
    "#Create a databse\n",
    "mycursor=mysql.cursor()\n",
    "mycursor.execute(\"create database magical\")\n",
    "x=mycursor.execute(\"use magical\")"
   ]
  },
  {
   "cell_type": "code",
   "execution_count": 4,
   "id": "5a92f005",
   "metadata": {},
   "outputs": [],
   "source": [
    "#Create a table\n",
    "mycursor=mysql.cursor()\n",
    "mycursor.execute(\"CREATE TABLE Movies ( MOVIE_NAME VARCHAR(40), ACTOR VARCHAR(40), ACTRESS VARCHAR(40), YOR INT, DIRECTOR VARCHAR(40))\")"
   ]
  },
  {
   "cell_type": "code",
   "execution_count": 6,
   "id": "3b7d0c8d",
   "metadata": {},
   "outputs": [],
   "source": [
    "#Inserting sample data\n",
    "mycursor=mysql.cursor()\n",
    "mycursor.execute(\"INSERT INTO Movies VALUES ('Harry Potter and the Goblet of Fire', 'Daniel Radcliffe', 'Emma Watson', 2005, 'David Yates')\")"
   ]
  },
  {
   "cell_type": "code",
   "execution_count": 32,
   "id": "298e8641",
   "metadata": {},
   "outputs": [
    {
     "name": "stdout",
     "output_type": "stream",
     "text": [
      "Movie: The Half of It\n",
      "Actor: Daniel Diemer\n",
      "Actress: Leah Lewis\n",
      "Year of Release: 2020\n",
      "Director: Alice Wu\n",
      "Harry Potter and the Goblet of Fire Daniel Radcliffe Emma Watson 2005 David Yates\n",
      "Harry Potter and the Goblet of Fire Daniel Radcliffe Emma Watson 2005 David Yates\n",
      "The Half of It Daniel Diemer Leah Lewis 2020 Alice Wu\n"
     ]
    }
   ],
   "source": [
    "#Insert data into the table but dynamic\n",
    "mycursor=mysql.cursor()\n",
    "a=input(\"Movie: \")\n",
    "b=input(\"Actor: \")\n",
    "c=input(\"Actress: \")\n",
    "d=int(input(\"Year of Release: \"))\n",
    "e=input(\"Director: \")\n",
    "sql=\"INSERT INTO Movies(MOVIE_NAME, ACTOR, ACTRESS, YOR, DIRECTOR) VALUES (%s,%s,%s,%s,%s)\"\n",
    "val=(a,b,c,d,e)\n",
    "mycursor.execute(sql,val)\n",
    "mysql.commit()"
   ]
  },
  {
   "cell_type": "code",
   "execution_count": 52,
   "id": "7d0d8f84",
   "metadata": {},
   "outputs": [
    {
     "name": "stdout",
     "output_type": "stream",
     "text": [
      "('Harry Potter and the Goblet of Fire', 'Daniel Radcliffe', 'Emma Watson', 2005, 'David Yates')\n",
      "('The Half of It', 'Daniel Diemer', 'Leah Lewis', 2020, 'Alice Wu')\n"
     ]
    }
   ],
   "source": [
    "#Querying data from movies table\n",
    "mycursor.execute(\"select distinct * from MOVIES\")\n",
    "myresult=mycursor.fetchall()\n",
    "for x in myresult:\n",
    "    print(x)"
   ]
  },
  {
   "cell_type": "code",
   "execution_count": 53,
   "id": "05fb7b0a",
   "metadata": {},
   "outputs": [
    {
     "name": "stdout",
     "output_type": "stream",
     "text": [
      "Actor: Daniel Radcliffe\n",
      "('Harry Potter and the Goblet of Fire', 'Daniel Radcliffe', 'Emma Watson', 2005, 'David Yates')\n"
     ]
    }
   ],
   "source": [
    "#Querying data where actor name is the following\n",
    "x=input(\"Actor: \")\n",
    "sql = \"SELECT DISTINCT * FROM MOVIES WHERE ACTOR = %s\"\n",
    "adr = (x, )\n",
    "mycursor.execute(sql, adr)\n",
    "myresult = mycursor.fetchall()\n",
    "for x in myresult:\n",
    "    print(x)"
   ]
  }
 ],
 "metadata": {
  "kernelspec": {
   "display_name": "Python 3",
   "language": "python",
   "name": "python3"
  },
  "language_info": {
   "codemirror_mode": {
    "name": "ipython",
    "version": 3
   },
   "file_extension": ".py",
   "mimetype": "text/x-python",
   "name": "python",
   "nbconvert_exporter": "python",
   "pygments_lexer": "ipython3",
   "version": "3.8.8"
  }
 },
 "nbformat": 4,
 "nbformat_minor": 5
}
